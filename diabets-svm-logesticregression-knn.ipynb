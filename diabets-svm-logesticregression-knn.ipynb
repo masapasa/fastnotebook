{
 "cells": [
  {
   "cell_type": "code",
   "execution_count": 2,
   "id": "853ea57d",
   "metadata": {
    "execution": {
     "iopub.execute_input": "2022-11-21T12:57:57.322230Z",
     "iopub.status.busy": "2022-11-21T12:57:57.321444Z",
     "iopub.status.idle": "2022-11-21T12:57:58.744760Z",
     "shell.execute_reply": "2022-11-21T12:57:58.743622Z"
    },
    "papermill": {
     "duration": 1.443982,
     "end_time": "2022-11-21T12:57:58.747731",
     "exception": false,
     "start_time": "2022-11-21T12:57:57.303749",
     "status": "completed"
    },
    "tags": []
   },
   "outputs": [],
   "source": [
    "#import libraties\n",
    "import numpy as np \n",
    "import pandas as pd \n",
    "import matplotlib.pyplot as plt\n",
    "%matplotlib inline\n",
    "import seaborn as sns\n",
    "from sklearn.model_selection import train_test_split\n",
    "from sklearn import metrics\n",
    "from sklearn.linear_model import LogisticRegression\n",
    "from sklearn.neighbors import KNeighborsClassifier\n",
    "from sklearn.svm import SVC\n",
    "from sklearn.metrics import classification_report, confusion_matrix\n",
    "import warnings"
   ]
  },
  {
   "cell_type": "code",
   "execution_count": 3,
   "id": "951cb1c3",
   "metadata": {
    "execution": {
     "iopub.execute_input": "2022-11-21T12:57:58.778645Z",
     "iopub.status.busy": "2022-11-21T12:57:58.777857Z",
     "iopub.status.idle": "2022-11-21T12:57:58.822666Z",
     "shell.execute_reply": "2022-11-21T12:57:58.821362Z"
    },
    "papermill": {
     "duration": 0.063872,
     "end_time": "2022-11-21T12:57:58.825172",
     "exception": false,
     "start_time": "2022-11-21T12:57:58.761300",
     "status": "completed"
    },
    "tags": []
   },
   "outputs": [
    {
     "data": {
      "text/html": [
       "<div>\n",
       "<style scoped>\n",
       "    .dataframe tbody tr th:only-of-type {\n",
       "        vertical-align: middle;\n",
       "    }\n",
       "\n",
       "    .dataframe tbody tr th {\n",
       "        vertical-align: top;\n",
       "    }\n",
       "\n",
       "    .dataframe thead th {\n",
       "        text-align: right;\n",
       "    }\n",
       "</style>\n",
       "<table border=\"1\" class=\"dataframe\">\n",
       "  <thead>\n",
       "    <tr style=\"text-align: right;\">\n",
       "      <th></th>\n",
       "      <th>Pregnancies</th>\n",
       "      <th>Glucose</th>\n",
       "      <th>BloodPressure</th>\n",
       "      <th>SkinThickness</th>\n",
       "      <th>Insulin</th>\n",
       "      <th>BMI</th>\n",
       "      <th>DiabetesPedigreeFunction</th>\n",
       "      <th>Age</th>\n",
       "      <th>Outcome</th>\n",
       "    </tr>\n",
       "  </thead>\n",
       "  <tbody>\n",
       "    <tr>\n",
       "      <th>0</th>\n",
       "      <td>6</td>\n",
       "      <td>148</td>\n",
       "      <td>72</td>\n",
       "      <td>35</td>\n",
       "      <td>0</td>\n",
       "      <td>33.6</td>\n",
       "      <td>0.627</td>\n",
       "      <td>50</td>\n",
       "      <td>1</td>\n",
       "    </tr>\n",
       "    <tr>\n",
       "      <th>1</th>\n",
       "      <td>1</td>\n",
       "      <td>85</td>\n",
       "      <td>66</td>\n",
       "      <td>29</td>\n",
       "      <td>0</td>\n",
       "      <td>26.6</td>\n",
       "      <td>0.351</td>\n",
       "      <td>31</td>\n",
       "      <td>0</td>\n",
       "    </tr>\n",
       "    <tr>\n",
       "      <th>2</th>\n",
       "      <td>8</td>\n",
       "      <td>183</td>\n",
       "      <td>64</td>\n",
       "      <td>0</td>\n",
       "      <td>0</td>\n",
       "      <td>23.3</td>\n",
       "      <td>0.672</td>\n",
       "      <td>32</td>\n",
       "      <td>1</td>\n",
       "    </tr>\n",
       "    <tr>\n",
       "      <th>3</th>\n",
       "      <td>1</td>\n",
       "      <td>89</td>\n",
       "      <td>66</td>\n",
       "      <td>23</td>\n",
       "      <td>94</td>\n",
       "      <td>28.1</td>\n",
       "      <td>0.167</td>\n",
       "      <td>21</td>\n",
       "      <td>0</td>\n",
       "    </tr>\n",
       "    <tr>\n",
       "      <th>4</th>\n",
       "      <td>0</td>\n",
       "      <td>137</td>\n",
       "      <td>40</td>\n",
       "      <td>35</td>\n",
       "      <td>168</td>\n",
       "      <td>43.1</td>\n",
       "      <td>2.288</td>\n",
       "      <td>33</td>\n",
       "      <td>1</td>\n",
       "    </tr>\n",
       "    <tr>\n",
       "      <th>...</th>\n",
       "      <td>...</td>\n",
       "      <td>...</td>\n",
       "      <td>...</td>\n",
       "      <td>...</td>\n",
       "      <td>...</td>\n",
       "      <td>...</td>\n",
       "      <td>...</td>\n",
       "      <td>...</td>\n",
       "      <td>...</td>\n",
       "    </tr>\n",
       "    <tr>\n",
       "      <th>763</th>\n",
       "      <td>10</td>\n",
       "      <td>101</td>\n",
       "      <td>76</td>\n",
       "      <td>48</td>\n",
       "      <td>180</td>\n",
       "      <td>32.9</td>\n",
       "      <td>0.171</td>\n",
       "      <td>63</td>\n",
       "      <td>0</td>\n",
       "    </tr>\n",
       "    <tr>\n",
       "      <th>764</th>\n",
       "      <td>2</td>\n",
       "      <td>122</td>\n",
       "      <td>70</td>\n",
       "      <td>27</td>\n",
       "      <td>0</td>\n",
       "      <td>36.8</td>\n",
       "      <td>0.340</td>\n",
       "      <td>27</td>\n",
       "      <td>0</td>\n",
       "    </tr>\n",
       "    <tr>\n",
       "      <th>765</th>\n",
       "      <td>5</td>\n",
       "      <td>121</td>\n",
       "      <td>72</td>\n",
       "      <td>23</td>\n",
       "      <td>112</td>\n",
       "      <td>26.2</td>\n",
       "      <td>0.245</td>\n",
       "      <td>30</td>\n",
       "      <td>0</td>\n",
       "    </tr>\n",
       "    <tr>\n",
       "      <th>766</th>\n",
       "      <td>1</td>\n",
       "      <td>126</td>\n",
       "      <td>60</td>\n",
       "      <td>0</td>\n",
       "      <td>0</td>\n",
       "      <td>30.1</td>\n",
       "      <td>0.349</td>\n",
       "      <td>47</td>\n",
       "      <td>1</td>\n",
       "    </tr>\n",
       "    <tr>\n",
       "      <th>767</th>\n",
       "      <td>1</td>\n",
       "      <td>93</td>\n",
       "      <td>70</td>\n",
       "      <td>31</td>\n",
       "      <td>0</td>\n",
       "      <td>30.4</td>\n",
       "      <td>0.315</td>\n",
       "      <td>23</td>\n",
       "      <td>0</td>\n",
       "    </tr>\n",
       "  </tbody>\n",
       "</table>\n",
       "<p>768 rows × 9 columns</p>\n",
       "</div>"
      ],
      "text/plain": [
       "     Pregnancies  Glucose  BloodPressure  SkinThickness  Insulin   BMI  \\\n",
       "0              6      148             72             35        0  33.6   \n",
       "1              1       85             66             29        0  26.6   \n",
       "2              8      183             64              0        0  23.3   \n",
       "3              1       89             66             23       94  28.1   \n",
       "4              0      137             40             35      168  43.1   \n",
       "..           ...      ...            ...            ...      ...   ...   \n",
       "763           10      101             76             48      180  32.9   \n",
       "764            2      122             70             27        0  36.8   \n",
       "765            5      121             72             23      112  26.2   \n",
       "766            1      126             60              0        0  30.1   \n",
       "767            1       93             70             31        0  30.4   \n",
       "\n",
       "     DiabetesPedigreeFunction  Age  Outcome  \n",
       "0                       0.627   50        1  \n",
       "1                       0.351   31        0  \n",
       "2                       0.672   32        1  \n",
       "3                       0.167   21        0  \n",
       "4                       2.288   33        1  \n",
       "..                        ...  ...      ...  \n",
       "763                     0.171   63        0  \n",
       "764                     0.340   27        0  \n",
       "765                     0.245   30        0  \n",
       "766                     0.349   47        1  \n",
       "767                     0.315   23        0  \n",
       "\n",
       "[768 rows x 9 columns]"
      ]
     },
     "execution_count": 3,
     "metadata": {},
     "output_type": "execute_result"
    }
   ],
   "source": [
    "#import data\n",
    "data = pd.read_csv(\"/home/aswin/data/diabetes.csv\")\n",
    "data"
   ]
  },
  {
   "cell_type": "markdown",
   "id": "bf858779",
   "metadata": {
    "papermill": {
     "duration": 0.013272,
     "end_time": "2022-11-21T12:57:58.852313",
     "exception": false,
     "start_time": "2022-11-21T12:57:58.839041",
     "status": "completed"
    },
    "tags": []
   },
   "source": [
    "## Applied Models:\n",
    "\n",
    "Logistic Regression\n",
    "\n",
    "KNN\n",
    "\n",
    "SVM"
   ]
  },
  {
   "cell_type": "code",
   "execution_count": 3,
   "id": "d56ff33e",
   "metadata": {
    "execution": {
     "iopub.execute_input": "2022-11-21T12:57:58.881279Z",
     "iopub.status.busy": "2022-11-21T12:57:58.880855Z",
     "iopub.status.idle": "2022-11-21T12:57:58.885718Z",
     "shell.execute_reply": "2022-11-21T12:57:58.884668Z"
    },
    "papermill": {
     "duration": 0.021994,
     "end_time": "2022-11-21T12:57:58.887965",
     "exception": false,
     "start_time": "2022-11-21T12:57:58.865971",
     "status": "completed"
    },
    "tags": []
   },
   "outputs": [],
   "source": [
    "# Creat DataFrame\n",
    "diabets_df = pd.DataFrame(data)"
   ]
  },
  {
   "cell_type": "code",
   "execution_count": 4,
   "id": "11f025f4",
   "metadata": {
    "execution": {
     "iopub.execute_input": "2022-11-21T12:57:58.917139Z",
     "iopub.status.busy": "2022-11-21T12:57:58.916099Z",
     "iopub.status.idle": "2022-11-21T12:57:58.958114Z",
     "shell.execute_reply": "2022-11-21T12:57:58.956927Z"
    },
    "papermill": {
     "duration": 0.059306,
     "end_time": "2022-11-21T12:57:58.960716",
     "exception": false,
     "start_time": "2022-11-21T12:57:58.901410",
     "status": "completed"
    },
    "tags": []
   },
   "outputs": [
    {
     "data": {
      "text/html": [
       "<div>\n",
       "<style scoped>\n",
       "    .dataframe tbody tr th:only-of-type {\n",
       "        vertical-align: middle;\n",
       "    }\n",
       "\n",
       "    .dataframe tbody tr th {\n",
       "        vertical-align: top;\n",
       "    }\n",
       "\n",
       "    .dataframe thead th {\n",
       "        text-align: right;\n",
       "    }\n",
       "</style>\n",
       "<table border=\"1\" class=\"dataframe\">\n",
       "  <thead>\n",
       "    <tr style=\"text-align: right;\">\n",
       "      <th></th>\n",
       "      <th>Pregnancies</th>\n",
       "      <th>Glucose</th>\n",
       "      <th>BloodPressure</th>\n",
       "      <th>SkinThickness</th>\n",
       "      <th>Insulin</th>\n",
       "      <th>BMI</th>\n",
       "      <th>DiabetesPedigreeFunction</th>\n",
       "      <th>Age</th>\n",
       "      <th>Outcome</th>\n",
       "    </tr>\n",
       "  </thead>\n",
       "  <tbody>\n",
       "    <tr>\n",
       "      <th>count</th>\n",
       "      <td>768.000000</td>\n",
       "      <td>768.000000</td>\n",
       "      <td>768.000000</td>\n",
       "      <td>768.000000</td>\n",
       "      <td>768.000000</td>\n",
       "      <td>768.000000</td>\n",
       "      <td>768.000000</td>\n",
       "      <td>768.000000</td>\n",
       "      <td>768.000000</td>\n",
       "    </tr>\n",
       "    <tr>\n",
       "      <th>mean</th>\n",
       "      <td>3.845052</td>\n",
       "      <td>120.894531</td>\n",
       "      <td>69.105469</td>\n",
       "      <td>20.536458</td>\n",
       "      <td>79.799479</td>\n",
       "      <td>31.992578</td>\n",
       "      <td>0.471876</td>\n",
       "      <td>33.240885</td>\n",
       "      <td>0.348958</td>\n",
       "    </tr>\n",
       "    <tr>\n",
       "      <th>std</th>\n",
       "      <td>3.369578</td>\n",
       "      <td>31.972618</td>\n",
       "      <td>19.355807</td>\n",
       "      <td>15.952218</td>\n",
       "      <td>115.244002</td>\n",
       "      <td>7.884160</td>\n",
       "      <td>0.331329</td>\n",
       "      <td>11.760232</td>\n",
       "      <td>0.476951</td>\n",
       "    </tr>\n",
       "    <tr>\n",
       "      <th>min</th>\n",
       "      <td>0.000000</td>\n",
       "      <td>0.000000</td>\n",
       "      <td>0.000000</td>\n",
       "      <td>0.000000</td>\n",
       "      <td>0.000000</td>\n",
       "      <td>0.000000</td>\n",
       "      <td>0.078000</td>\n",
       "      <td>21.000000</td>\n",
       "      <td>0.000000</td>\n",
       "    </tr>\n",
       "    <tr>\n",
       "      <th>25%</th>\n",
       "      <td>1.000000</td>\n",
       "      <td>99.000000</td>\n",
       "      <td>62.000000</td>\n",
       "      <td>0.000000</td>\n",
       "      <td>0.000000</td>\n",
       "      <td>27.300000</td>\n",
       "      <td>0.243750</td>\n",
       "      <td>24.000000</td>\n",
       "      <td>0.000000</td>\n",
       "    </tr>\n",
       "    <tr>\n",
       "      <th>50%</th>\n",
       "      <td>3.000000</td>\n",
       "      <td>117.000000</td>\n",
       "      <td>72.000000</td>\n",
       "      <td>23.000000</td>\n",
       "      <td>30.500000</td>\n",
       "      <td>32.000000</td>\n",
       "      <td>0.372500</td>\n",
       "      <td>29.000000</td>\n",
       "      <td>0.000000</td>\n",
       "    </tr>\n",
       "    <tr>\n",
       "      <th>75%</th>\n",
       "      <td>6.000000</td>\n",
       "      <td>140.250000</td>\n",
       "      <td>80.000000</td>\n",
       "      <td>32.000000</td>\n",
       "      <td>127.250000</td>\n",
       "      <td>36.600000</td>\n",
       "      <td>0.626250</td>\n",
       "      <td>41.000000</td>\n",
       "      <td>1.000000</td>\n",
       "    </tr>\n",
       "    <tr>\n",
       "      <th>max</th>\n",
       "      <td>17.000000</td>\n",
       "      <td>199.000000</td>\n",
       "      <td>122.000000</td>\n",
       "      <td>99.000000</td>\n",
       "      <td>846.000000</td>\n",
       "      <td>67.100000</td>\n",
       "      <td>2.420000</td>\n",
       "      <td>81.000000</td>\n",
       "      <td>1.000000</td>\n",
       "    </tr>\n",
       "  </tbody>\n",
       "</table>\n",
       "</div>"
      ],
      "text/plain": [
       "       Pregnancies     Glucose  BloodPressure  SkinThickness     Insulin  \\\n",
       "count   768.000000  768.000000     768.000000     768.000000  768.000000   \n",
       "mean      3.845052  120.894531      69.105469      20.536458   79.799479   \n",
       "std       3.369578   31.972618      19.355807      15.952218  115.244002   \n",
       "min       0.000000    0.000000       0.000000       0.000000    0.000000   \n",
       "25%       1.000000   99.000000      62.000000       0.000000    0.000000   \n",
       "50%       3.000000  117.000000      72.000000      23.000000   30.500000   \n",
       "75%       6.000000  140.250000      80.000000      32.000000  127.250000   \n",
       "max      17.000000  199.000000     122.000000      99.000000  846.000000   \n",
       "\n",
       "              BMI  DiabetesPedigreeFunction         Age     Outcome  \n",
       "count  768.000000                768.000000  768.000000  768.000000  \n",
       "mean    31.992578                  0.471876   33.240885    0.348958  \n",
       "std      7.884160                  0.331329   11.760232    0.476951  \n",
       "min      0.000000                  0.078000   21.000000    0.000000  \n",
       "25%     27.300000                  0.243750   24.000000    0.000000  \n",
       "50%     32.000000                  0.372500   29.000000    0.000000  \n",
       "75%     36.600000                  0.626250   41.000000    1.000000  \n",
       "max     67.100000                  2.420000   81.000000    1.000000  "
      ]
     },
     "execution_count": 4,
     "metadata": {},
     "output_type": "execute_result"
    }
   ],
   "source": [
    "data.describe(include = \"all\")"
   ]
  },
  {
   "cell_type": "markdown",
   "id": "ff2f436f",
   "metadata": {
    "papermill": {
     "duration": 0.013594,
     "end_time": "2022-11-21T12:57:58.988685",
     "exception": false,
     "start_time": "2022-11-21T12:57:58.975091",
     "status": "completed"
    },
    "tags": []
   },
   "source": [
    "## Data Visualization & Analysis"
   ]
  },
  {
   "cell_type": "code",
   "execution_count": 5,
   "id": "f35a0af6",
   "metadata": {
    "execution": {
     "iopub.execute_input": "2022-11-21T12:57:59.018373Z",
     "iopub.status.busy": "2022-11-21T12:57:59.017631Z",
     "iopub.status.idle": "2022-11-21T12:57:59.030990Z",
     "shell.execute_reply": "2022-11-21T12:57:59.030178Z"
    },
    "papermill": {
     "duration": 0.030259,
     "end_time": "2022-11-21T12:57:59.032952",
     "exception": false,
     "start_time": "2022-11-21T12:57:59.002693",
     "status": "completed"
    },
    "tags": []
   },
   "outputs": [
    {
     "data": {
      "text/html": [
       "<div>\n",
       "<style scoped>\n",
       "    .dataframe tbody tr th:only-of-type {\n",
       "        vertical-align: middle;\n",
       "    }\n",
       "\n",
       "    .dataframe tbody tr th {\n",
       "        vertical-align: top;\n",
       "    }\n",
       "\n",
       "    .dataframe thead th {\n",
       "        text-align: right;\n",
       "    }\n",
       "</style>\n",
       "<table border=\"1\" class=\"dataframe\">\n",
       "  <thead>\n",
       "    <tr style=\"text-align: right;\">\n",
       "      <th></th>\n",
       "      <th>Pregnancies</th>\n",
       "      <th>Glucose</th>\n",
       "      <th>BloodPressure</th>\n",
       "      <th>SkinThickness</th>\n",
       "      <th>Insulin</th>\n",
       "      <th>BMI</th>\n",
       "      <th>DiabetesPedigreeFunction</th>\n",
       "      <th>Age</th>\n",
       "      <th>Outcome</th>\n",
       "    </tr>\n",
       "  </thead>\n",
       "  <tbody>\n",
       "    <tr>\n",
       "      <th>0</th>\n",
       "      <td>6</td>\n",
       "      <td>148</td>\n",
       "      <td>72</td>\n",
       "      <td>35</td>\n",
       "      <td>0</td>\n",
       "      <td>33.6</td>\n",
       "      <td>0.627</td>\n",
       "      <td>50</td>\n",
       "      <td>1</td>\n",
       "    </tr>\n",
       "    <tr>\n",
       "      <th>1</th>\n",
       "      <td>1</td>\n",
       "      <td>85</td>\n",
       "      <td>66</td>\n",
       "      <td>29</td>\n",
       "      <td>0</td>\n",
       "      <td>26.6</td>\n",
       "      <td>0.351</td>\n",
       "      <td>31</td>\n",
       "      <td>0</td>\n",
       "    </tr>\n",
       "    <tr>\n",
       "      <th>2</th>\n",
       "      <td>8</td>\n",
       "      <td>183</td>\n",
       "      <td>64</td>\n",
       "      <td>0</td>\n",
       "      <td>0</td>\n",
       "      <td>23.3</td>\n",
       "      <td>0.672</td>\n",
       "      <td>32</td>\n",
       "      <td>1</td>\n",
       "    </tr>\n",
       "    <tr>\n",
       "      <th>3</th>\n",
       "      <td>1</td>\n",
       "      <td>89</td>\n",
       "      <td>66</td>\n",
       "      <td>23</td>\n",
       "      <td>94</td>\n",
       "      <td>28.1</td>\n",
       "      <td>0.167</td>\n",
       "      <td>21</td>\n",
       "      <td>0</td>\n",
       "    </tr>\n",
       "    <tr>\n",
       "      <th>4</th>\n",
       "      <td>0</td>\n",
       "      <td>137</td>\n",
       "      <td>40</td>\n",
       "      <td>35</td>\n",
       "      <td>168</td>\n",
       "      <td>43.1</td>\n",
       "      <td>2.288</td>\n",
       "      <td>33</td>\n",
       "      <td>1</td>\n",
       "    </tr>\n",
       "  </tbody>\n",
       "</table>\n",
       "</div>"
      ],
      "text/plain": [
       "   Pregnancies  Glucose  BloodPressure  SkinThickness  Insulin   BMI  \\\n",
       "0            6      148             72             35        0  33.6   \n",
       "1            1       85             66             29        0  26.6   \n",
       "2            8      183             64              0        0  23.3   \n",
       "3            1       89             66             23       94  28.1   \n",
       "4            0      137             40             35      168  43.1   \n",
       "\n",
       "   DiabetesPedigreeFunction  Age  Outcome  \n",
       "0                     0.627   50        1  \n",
       "1                     0.351   31        0  \n",
       "2                     0.672   32        1  \n",
       "3                     0.167   21        0  \n",
       "4                     2.288   33        1  "
      ]
     },
     "execution_count": 5,
     "metadata": {},
     "output_type": "execute_result"
    }
   ],
   "source": [
    "diabets_df.head()"
   ]
  },
  {
   "cell_type": "code",
   "execution_count": 6,
   "id": "23388560",
   "metadata": {
    "execution": {
     "iopub.execute_input": "2022-11-21T12:57:59.063230Z",
     "iopub.status.busy": "2022-11-21T12:57:59.062258Z",
     "iopub.status.idle": "2022-11-21T12:57:59.069768Z",
     "shell.execute_reply": "2022-11-21T12:57:59.068717Z"
    },
    "papermill": {
     "duration": 0.025039,
     "end_time": "2022-11-21T12:57:59.071973",
     "exception": false,
     "start_time": "2022-11-21T12:57:59.046934",
     "status": "completed"
    },
    "tags": []
   },
   "outputs": [
    {
     "data": {
      "text/plain": [
       "(768, 9)"
      ]
     },
     "execution_count": 6,
     "metadata": {},
     "output_type": "execute_result"
    }
   ],
   "source": [
    "diabets_df.shape"
   ]
  },
  {
   "cell_type": "code",
   "execution_count": 7,
   "id": "17adecaa",
   "metadata": {
    "execution": {
     "iopub.execute_input": "2022-11-21T12:57:59.101864Z",
     "iopub.status.busy": "2022-11-21T12:57:59.101413Z",
     "iopub.status.idle": "2022-11-21T12:57:59.122497Z",
     "shell.execute_reply": "2022-11-21T12:57:59.121133Z"
    },
    "papermill": {
     "duration": 0.038911,
     "end_time": "2022-11-21T12:57:59.125053",
     "exception": false,
     "start_time": "2022-11-21T12:57:59.086142",
     "status": "completed"
    },
    "tags": []
   },
   "outputs": [
    {
     "name": "stdout",
     "output_type": "stream",
     "text": [
      "<class 'pandas.core.frame.DataFrame'>\n",
      "RangeIndex: 768 entries, 0 to 767\n",
      "Data columns (total 9 columns):\n",
      " #   Column                    Non-Null Count  Dtype  \n",
      "---  ------                    --------------  -----  \n",
      " 0   Pregnancies               768 non-null    int64  \n",
      " 1   Glucose                   768 non-null    int64  \n",
      " 2   BloodPressure             768 non-null    int64  \n",
      " 3   SkinThickness             768 non-null    int64  \n",
      " 4   Insulin                   768 non-null    int64  \n",
      " 5   BMI                       768 non-null    float64\n",
      " 6   DiabetesPedigreeFunction  768 non-null    float64\n",
      " 7   Age                       768 non-null    int64  \n",
      " 8   Outcome                   768 non-null    int64  \n",
      "dtypes: float64(2), int64(7)\n",
      "memory usage: 54.1 KB\n"
     ]
    }
   ],
   "source": [
    "# Show detaile columns\n",
    "diabets_df.info()"
   ]
  },
  {
   "cell_type": "code",
   "execution_count": 8,
   "id": "477a58e4",
   "metadata": {
    "execution": {
     "iopub.execute_input": "2022-11-21T12:57:59.155390Z",
     "iopub.status.busy": "2022-11-21T12:57:59.154986Z",
     "iopub.status.idle": "2022-11-21T12:57:59.164514Z",
     "shell.execute_reply": "2022-11-21T12:57:59.163362Z"
    },
    "papermill": {
     "duration": 0.027519,
     "end_time": "2022-11-21T12:57:59.166892",
     "exception": false,
     "start_time": "2022-11-21T12:57:59.139373",
     "status": "completed"
    },
    "tags": []
   },
   "outputs": [
    {
     "data": {
      "text/plain": [
       "Pregnancies                 0\n",
       "Glucose                     0\n",
       "BloodPressure               0\n",
       "SkinThickness               0\n",
       "Insulin                     0\n",
       "BMI                         0\n",
       "DiabetesPedigreeFunction    0\n",
       "Age                         0\n",
       "Outcome                     0\n",
       "dtype: int64"
      ]
     },
     "execution_count": 8,
     "metadata": {},
     "output_type": "execute_result"
    }
   ],
   "source": [
    "# How many missing value?\n",
    "diabets_df.isna().sum()"
   ]
  },
  {
   "cell_type": "code",
   "execution_count": 6,
   "id": "f3676315",
   "metadata": {},
   "outputs": [
    {
     "data": {
      "text/html": [
       "<div>\n",
       "<style scoped>\n",
       "    .dataframe tbody tr th:only-of-type {\n",
       "        vertical-align: middle;\n",
       "    }\n",
       "\n",
       "    .dataframe tbody tr th {\n",
       "        vertical-align: top;\n",
       "    }\n",
       "\n",
       "    .dataframe thead th {\n",
       "        text-align: right;\n",
       "    }\n",
       "</style>\n",
       "<table border=\"1\" class=\"dataframe\">\n",
       "  <thead>\n",
       "    <tr style=\"text-align: right;\">\n",
       "      <th></th>\n",
       "      <th>count</th>\n",
       "      <th>mean</th>\n",
       "      <th>std</th>\n",
       "      <th>min</th>\n",
       "      <th>25%</th>\n",
       "      <th>50%</th>\n",
       "      <th>75%</th>\n",
       "      <th>max</th>\n",
       "    </tr>\n",
       "  </thead>\n",
       "  <tbody>\n",
       "    <tr>\n",
       "      <th>Pregnancies</th>\n",
       "      <td>768.0</td>\n",
       "      <td>3.845052</td>\n",
       "      <td>3.369578</td>\n",
       "      <td>0.000</td>\n",
       "      <td>1.00000</td>\n",
       "      <td>3.0000</td>\n",
       "      <td>6.00000</td>\n",
       "      <td>17.00</td>\n",
       "    </tr>\n",
       "    <tr>\n",
       "      <th>Glucose</th>\n",
       "      <td>768.0</td>\n",
       "      <td>120.894531</td>\n",
       "      <td>31.972618</td>\n",
       "      <td>0.000</td>\n",
       "      <td>99.00000</td>\n",
       "      <td>117.0000</td>\n",
       "      <td>140.25000</td>\n",
       "      <td>199.00</td>\n",
       "    </tr>\n",
       "    <tr>\n",
       "      <th>BloodPressure</th>\n",
       "      <td>768.0</td>\n",
       "      <td>69.105469</td>\n",
       "      <td>19.355807</td>\n",
       "      <td>0.000</td>\n",
       "      <td>62.00000</td>\n",
       "      <td>72.0000</td>\n",
       "      <td>80.00000</td>\n",
       "      <td>122.00</td>\n",
       "    </tr>\n",
       "    <tr>\n",
       "      <th>SkinThickness</th>\n",
       "      <td>768.0</td>\n",
       "      <td>20.536458</td>\n",
       "      <td>15.952218</td>\n",
       "      <td>0.000</td>\n",
       "      <td>0.00000</td>\n",
       "      <td>23.0000</td>\n",
       "      <td>32.00000</td>\n",
       "      <td>99.00</td>\n",
       "    </tr>\n",
       "    <tr>\n",
       "      <th>Insulin</th>\n",
       "      <td>768.0</td>\n",
       "      <td>79.799479</td>\n",
       "      <td>115.244002</td>\n",
       "      <td>0.000</td>\n",
       "      <td>0.00000</td>\n",
       "      <td>30.5000</td>\n",
       "      <td>127.25000</td>\n",
       "      <td>846.00</td>\n",
       "    </tr>\n",
       "    <tr>\n",
       "      <th>BMI</th>\n",
       "      <td>768.0</td>\n",
       "      <td>31.992578</td>\n",
       "      <td>7.884160</td>\n",
       "      <td>0.000</td>\n",
       "      <td>27.30000</td>\n",
       "      <td>32.0000</td>\n",
       "      <td>36.60000</td>\n",
       "      <td>67.10</td>\n",
       "    </tr>\n",
       "    <tr>\n",
       "      <th>DiabetesPedigreeFunction</th>\n",
       "      <td>768.0</td>\n",
       "      <td>0.471876</td>\n",
       "      <td>0.331329</td>\n",
       "      <td>0.078</td>\n",
       "      <td>0.24375</td>\n",
       "      <td>0.3725</td>\n",
       "      <td>0.62625</td>\n",
       "      <td>2.42</td>\n",
       "    </tr>\n",
       "    <tr>\n",
       "      <th>Age</th>\n",
       "      <td>768.0</td>\n",
       "      <td>33.240885</td>\n",
       "      <td>11.760232</td>\n",
       "      <td>21.000</td>\n",
       "      <td>24.00000</td>\n",
       "      <td>29.0000</td>\n",
       "      <td>41.00000</td>\n",
       "      <td>81.00</td>\n",
       "    </tr>\n",
       "    <tr>\n",
       "      <th>Outcome</th>\n",
       "      <td>768.0</td>\n",
       "      <td>0.348958</td>\n",
       "      <td>0.476951</td>\n",
       "      <td>0.000</td>\n",
       "      <td>0.00000</td>\n",
       "      <td>0.0000</td>\n",
       "      <td>1.00000</td>\n",
       "      <td>1.00</td>\n",
       "    </tr>\n",
       "  </tbody>\n",
       "</table>\n",
       "</div>"
      ],
      "text/plain": [
       "                          count        mean         std     min       25%  \\\n",
       "Pregnancies               768.0    3.845052    3.369578   0.000   1.00000   \n",
       "Glucose                   768.0  120.894531   31.972618   0.000  99.00000   \n",
       "BloodPressure             768.0   69.105469   19.355807   0.000  62.00000   \n",
       "SkinThickness             768.0   20.536458   15.952218   0.000   0.00000   \n",
       "Insulin                   768.0   79.799479  115.244002   0.000   0.00000   \n",
       "BMI                       768.0   31.992578    7.884160   0.000  27.30000   \n",
       "DiabetesPedigreeFunction  768.0    0.471876    0.331329   0.078   0.24375   \n",
       "Age                       768.0   33.240885   11.760232  21.000  24.00000   \n",
       "Outcome                   768.0    0.348958    0.476951   0.000   0.00000   \n",
       "\n",
       "                               50%        75%     max  \n",
       "Pregnancies                 3.0000    6.00000   17.00  \n",
       "Glucose                   117.0000  140.25000  199.00  \n",
       "BloodPressure              72.0000   80.00000  122.00  \n",
       "SkinThickness              23.0000   32.00000   99.00  \n",
       "Insulin                    30.5000  127.25000  846.00  \n",
       "BMI                        32.0000   36.60000   67.10  \n",
       "DiabetesPedigreeFunction    0.3725    0.62625    2.42  \n",
       "Age                        29.0000   41.00000   81.00  \n",
       "Outcome                     0.0000    1.00000    1.00  "
      ]
     },
     "execution_count": 6,
     "metadata": {},
     "output_type": "execute_result"
    }
   ],
   "source": [
    "desc = data.describe().T\n",
    "desc"
   ]
  },
  {
   "cell_type": "code",
   "execution_count": 9,
   "id": "7646c8bd",
   "metadata": {
    "execution": {
     "iopub.execute_input": "2022-11-21T12:57:59.197492Z",
     "iopub.status.busy": "2022-11-21T12:57:59.197085Z",
     "iopub.status.idle": "2022-11-21T12:57:59.780976Z",
     "shell.execute_reply": "2022-11-21T12:57:59.779982Z"
    },
    "papermill": {
     "duration": 0.601957,
     "end_time": "2022-11-21T12:57:59.783215",
     "exception": false,
     "start_time": "2022-11-21T12:57:59.181258",
     "status": "completed"
    },
    "tags": []
   },
   "outputs": [
    {
     "data": {
      "image/png": "[encoded data removed]",
      "text/plain": [
       "<Figure size 864x864 with 1 Axes>"
      ]
     },
     "metadata": {
      "needs_background": "light"
     },
     "output_type": "display_data"
    }
   ],
   "source": [
    "# Show detaile data set\n",
    "desc = diabets_df.describe().T\n",
    "diabets_df2 = pd.DataFrame(index=['Pregnancies', 'Glucose', 'BloodPressure', 'SkinThickness',\n",
    "                          'Insulin', 'BMI', 'DiabetesPedigreeFunction', 'Age', 'Outcome'], \n",
    "                   columns= [\"count\",\"mean\",\"std\",\"min\",\n",
    "                             \"25%\",\"50%\",\"75%\",\"max\"], data= desc )\n",
    "\n",
    "f,ax = plt.subplots(figsize=(12,12))\n",
    "\n",
    "sns.heatmap(diabets_df2, annot=True,cmap = \"Blues\", fmt= '.0f',\n",
    "            ax=ax,linewidths = 5, cbar = False,\n",
    "            annot_kws={\"size\": 16})\n",
    "\n",
    "plt.xticks(size = 18)\n",
    "plt.yticks(size = 12, rotation = 0)\n",
    "plt.ylabel(\"Variables\")\n",
    "plt.title(\"Descriptive Statistics\", size = 16)\n",
    "plt.show()"
   ]
  },
  {
   "cell_type": "code",
   "execution_count": 10,
   "id": "6a97149a",
   "metadata": {
    "execution": {
     "iopub.execute_input": "2022-11-21T12:57:59.816846Z",
     "iopub.status.busy": "2022-11-21T12:57:59.816190Z",
     "iopub.status.idle": "2022-11-21T12:58:00.794338Z",
     "shell.execute_reply": "2022-11-21T12:58:00.793271Z"
    },
    "papermill": {
     "duration": 0.997875,
     "end_time": "2022-11-21T12:58:00.796785",
     "exception": false,
     "start_time": "2022-11-21T12:57:59.798910",
     "status": "completed"
    },
    "tags": []
   },
   "outputs": [
    {
     "data": {
      "image/png": "[encoded data removed]",
      "text/plain": [
       "<Figure size 1440x288 with 2 Axes>"
      ]
     },
     "metadata": {
      "needs_background": "light"
     },
     "output_type": "display_data"
    },
    {
     "data": {
      "image/png": "[encoded data removed]",
      "text/plain": [
       "<Figure size 1440x288 with 2 Axes>"
      ]
     },
     "metadata": {
      "needs_background": "light"
     },
     "output_type": "display_data"
    },
    {
     "data": {
      "image/png": "[encoded data removed]",
      "text/plain": [
       "<Figure size 1440x288 with 2 Axes>"
      ]
     },
     "metadata": {
      "needs_background": "light"
     },
     "output_type": "display_data"
    },
    {
     "data": {
      "image/png": "[encoded data removed]",
      "text/plain": [
       "<Figure size 1440x288 with 2 Axes>"
      ]
     },
     "metadata": {
      "needs_background": "light"
     },
     "output_type": "display_data"
    }
   ],
   "source": [
    "## plot for numerical columns\n",
    "Numerical = ['Pregnancies', 'Glucose', 'BloodPressure', 'SkinThickness','Insulin', 'BMI', 'DiabetesPedigreeFunction', 'Age']\n",
    "i = 0\n",
    "while i <8:\n",
    "    fig = plt.figure(figsize =[20,4])\n",
    "    plt.subplot(1,2,1)   #(one row, two plots, firs one)\n",
    "    sns.boxplot(x =Numerical[i], data = diabets_df )\n",
    "    i+=1\n",
    "    if i==8:\n",
    "        break\n",
    "    plt.subplot(1,2,2)\n",
    "    sns.boxplot(x =Numerical[i], data = diabets_df)\n",
    "    i+=1\n",
    "  \n",
    "    plt.show()"
   ]
  },
  {
   "cell_type": "code",
   "execution_count": 11,
   "id": "3eb89723",
   "metadata": {
    "execution": {
     "iopub.execute_input": "2022-11-21T12:58:00.832315Z",
     "iopub.status.busy": "2022-11-21T12:58:00.831421Z",
     "iopub.status.idle": "2022-11-21T12:58:02.938057Z",
     "shell.execute_reply": "2022-11-21T12:58:02.936803Z"
    },
    "papermill": {
     "duration": 2.12727,
     "end_time": "2022-11-21T12:58:02.940779",
     "exception": false,
     "start_time": "2022-11-21T12:58:00.813509",
     "status": "completed"
    },
    "tags": []
   },
   "outputs": [
    {
     "data": {
      "image/png": "[encoded data removed]",
      "text/plain": [
       "<Figure size 1440x1080 with 9 Axes>"
      ]
     },
     "metadata": {
      "needs_background": "light"
     },
     "output_type": "display_data"
    }
   ],
   "source": [
    "#histogram\n",
    "diabets_df.hist(bins=50,figsize=(20,15))\n",
    "plt.show()"
   ]
  },
  {
   "cell_type": "code",
   "execution_count": 12,
   "id": "25995219",
   "metadata": {
    "execution": {
     "iopub.execute_input": "2022-11-21T12:58:02.978634Z",
     "iopub.status.busy": "2022-11-21T12:58:02.977536Z",
     "iopub.status.idle": "2022-11-21T12:58:02.983448Z",
     "shell.execute_reply": "2022-11-21T12:58:02.982247Z"
    },
    "papermill": {
     "duration": 0.027428,
     "end_time": "2022-11-21T12:58:02.985793",
     "exception": false,
     "start_time": "2022-11-21T12:58:02.958365",
     "status": "completed"
    },
    "tags": []
   },
   "outputs": [],
   "source": [
    "diabets_df3 = diabets_df.copy()"
   ]
  },
  {
   "cell_type": "code",
   "execution_count": 13,
   "id": "fb7b7165",
   "metadata": {
    "execution": {
     "iopub.execute_input": "2022-11-21T12:58:03.022636Z",
     "iopub.status.busy": "2022-11-21T12:58:03.021819Z",
     "iopub.status.idle": "2022-11-21T12:58:03.709395Z",
     "shell.execute_reply": "2022-11-21T12:58:03.705785Z"
    },
    "papermill": {
     "duration": 0.709033,
     "end_time": "2022-11-21T12:58:03.712184",
     "exception": false,
     "start_time": "2022-11-21T12:58:03.003151",
     "status": "completed"
    },
    "tags": []
   },
   "outputs": [
    {
     "data": {
      "image/png": "[encoded data removed]",
      "text/plain": [
       "<Figure size 1440x864 with 2 Axes>"
      ]
     },
     "metadata": {
      "needs_background": "light"
     },
     "output_type": "display_data"
    }
   ],
   "source": [
    "## Show correlation\n",
    "fig, ax = plt.subplots(figsize = (20, 12)) #Size of plot\n",
    "ax = sns.heatmap(diabets_df3.corr(),cmap='RdBu_r',cbar=True,annot=True,linewidths=0.5,ax=ax)\n",
    "plt.show()"
   ]
  },
  {
   "cell_type": "markdown",
   "id": "70fc7a25",
   "metadata": {
    "papermill": {
     "duration": 0.018478,
     "end_time": "2022-11-21T12:58:03.754132",
     "exception": false,
     "start_time": "2022-11-21T12:58:03.735654",
     "status": "completed"
    },
    "tags": []
   },
   "source": [
    "###  Best correlation for Glucose"
   ]
  },
  {
   "cell_type": "code",
   "execution_count": 14,
   "id": "3f068006",
   "metadata": {
    "execution": {
     "iopub.execute_input": "2022-11-21T12:58:03.803191Z",
     "iopub.status.busy": "2022-11-21T12:58:03.802020Z",
     "iopub.status.idle": "2022-11-21T12:58:03.821958Z",
     "shell.execute_reply": "2022-11-21T12:58:03.820660Z"
    },
    "papermill": {
     "duration": 0.051391,
     "end_time": "2022-11-21T12:58:03.824817",
     "exception": false,
     "start_time": "2022-11-21T12:58:03.773426",
     "status": "completed"
    },
    "tags": []
   },
   "outputs": [
    {
     "data": {
      "text/html": [
       "<div>\n",
       "<style scoped>\n",
       "    .dataframe tbody tr th:only-of-type {\n",
       "        vertical-align: middle;\n",
       "    }\n",
       "\n",
       "    .dataframe tbody tr th {\n",
       "        vertical-align: top;\n",
       "    }\n",
       "\n",
       "    .dataframe thead th {\n",
       "        text-align: right;\n",
       "    }\n",
       "</style>\n",
       "<table border=\"1\" class=\"dataframe\">\n",
       "  <thead>\n",
       "    <tr style=\"text-align: right;\">\n",
       "      <th></th>\n",
       "      <th>Pregnancies</th>\n",
       "      <th>Glucose</th>\n",
       "      <th>BloodPressure</th>\n",
       "      <th>SkinThickness</th>\n",
       "      <th>Insulin</th>\n",
       "      <th>BMI</th>\n",
       "      <th>DiabetesPedigreeFunction</th>\n",
       "      <th>Age</th>\n",
       "      <th>Outcome</th>\n",
       "    </tr>\n",
       "  </thead>\n",
       "  <tbody>\n",
       "    <tr>\n",
       "      <th>Pregnancies</th>\n",
       "      <td>1.000000</td>\n",
       "      <td>0.129459</td>\n",
       "      <td>0.141282</td>\n",
       "      <td>-0.081672</td>\n",
       "      <td>-0.073535</td>\n",
       "      <td>0.017683</td>\n",
       "      <td>-0.033523</td>\n",
       "      <td>0.544341</td>\n",
       "      <td>0.221898</td>\n",
       "    </tr>\n",
       "    <tr>\n",
       "      <th>Glucose</th>\n",
       "      <td>0.129459</td>\n",
       "      <td>1.000000</td>\n",
       "      <td>0.152590</td>\n",
       "      <td>0.057328</td>\n",
       "      <td>0.331357</td>\n",
       "      <td>0.221071</td>\n",
       "      <td>0.137337</td>\n",
       "      <td>0.263514</td>\n",
       "      <td>0.466581</td>\n",
       "    </tr>\n",
       "    <tr>\n",
       "      <th>BloodPressure</th>\n",
       "      <td>0.141282</td>\n",
       "      <td>0.152590</td>\n",
       "      <td>1.000000</td>\n",
       "      <td>0.207371</td>\n",
       "      <td>0.088933</td>\n",
       "      <td>0.281805</td>\n",
       "      <td>0.041265</td>\n",
       "      <td>0.239528</td>\n",
       "      <td>0.065068</td>\n",
       "    </tr>\n",
       "    <tr>\n",
       "      <th>SkinThickness</th>\n",
       "      <td>-0.081672</td>\n",
       "      <td>0.057328</td>\n",
       "      <td>0.207371</td>\n",
       "      <td>1.000000</td>\n",
       "      <td>0.436783</td>\n",
       "      <td>0.392573</td>\n",
       "      <td>0.183928</td>\n",
       "      <td>-0.113970</td>\n",
       "      <td>0.074752</td>\n",
       "    </tr>\n",
       "    <tr>\n",
       "      <th>Insulin</th>\n",
       "      <td>-0.073535</td>\n",
       "      <td>0.331357</td>\n",
       "      <td>0.088933</td>\n",
       "      <td>0.436783</td>\n",
       "      <td>1.000000</td>\n",
       "      <td>0.197859</td>\n",
       "      <td>0.185071</td>\n",
       "      <td>-0.042163</td>\n",
       "      <td>0.130548</td>\n",
       "    </tr>\n",
       "    <tr>\n",
       "      <th>BMI</th>\n",
       "      <td>0.017683</td>\n",
       "      <td>0.221071</td>\n",
       "      <td>0.281805</td>\n",
       "      <td>0.392573</td>\n",
       "      <td>0.197859</td>\n",
       "      <td>1.000000</td>\n",
       "      <td>0.140647</td>\n",
       "      <td>0.036242</td>\n",
       "      <td>0.292695</td>\n",
       "    </tr>\n",
       "    <tr>\n",
       "      <th>DiabetesPedigreeFunction</th>\n",
       "      <td>-0.033523</td>\n",
       "      <td>0.137337</td>\n",
       "      <td>0.041265</td>\n",
       "      <td>0.183928</td>\n",
       "      <td>0.185071</td>\n",
       "      <td>0.140647</td>\n",
       "      <td>1.000000</td>\n",
       "      <td>0.033561</td>\n",
       "      <td>0.173844</td>\n",
       "    </tr>\n",
       "    <tr>\n",
       "      <th>Age</th>\n",
       "      <td>0.544341</td>\n",
       "      <td>0.263514</td>\n",
       "      <td>0.239528</td>\n",
       "      <td>-0.113970</td>\n",
       "      <td>-0.042163</td>\n",
       "      <td>0.036242</td>\n",
       "      <td>0.033561</td>\n",
       "      <td>1.000000</td>\n",
       "      <td>0.238356</td>\n",
       "    </tr>\n",
       "    <tr>\n",
       "      <th>Outcome</th>\n",
       "      <td>0.221898</td>\n",
       "      <td>0.466581</td>\n",
       "      <td>0.065068</td>\n",
       "      <td>0.074752</td>\n",
       "      <td>0.130548</td>\n",
       "      <td>0.292695</td>\n",
       "      <td>0.173844</td>\n",
       "      <td>0.238356</td>\n",
       "      <td>1.000000</td>\n",
       "    </tr>\n",
       "  </tbody>\n",
       "</table>\n",
       "</div>"
      ],
      "text/plain": [
       "                          Pregnancies   Glucose  BloodPressure  SkinThickness  \\\n",
       "Pregnancies                  1.000000  0.129459       0.141282      -0.081672   \n",
       "Glucose                      0.129459  1.000000       0.152590       0.057328   \n",
       "BloodPressure                0.141282  0.152590       1.000000       0.207371   \n",
       "SkinThickness               -0.081672  0.057328       0.207371       1.000000   \n",
       "Insulin                     -0.073535  0.331357       0.088933       0.436783   \n",
       "BMI                          0.017683  0.221071       0.281805       0.392573   \n",
       "DiabetesPedigreeFunction    -0.033523  0.137337       0.041265       0.183928   \n",
       "Age                          0.544341  0.263514       0.239528      -0.113970   \n",
       "Outcome                      0.221898  0.466581       0.065068       0.074752   \n",
       "\n",
       "                           Insulin       BMI  DiabetesPedigreeFunction  \\\n",
       "Pregnancies              -0.073535  0.017683                 -0.033523   \n",
       "Glucose                   0.331357  0.221071                  0.137337   \n",
       "BloodPressure             0.088933  0.281805                  0.041265   \n",
       "SkinThickness             0.436783  0.392573                  0.183928   \n",
       "Insulin                   1.000000  0.197859                  0.185071   \n",
       "BMI                       0.197859  1.000000                  0.140647   \n",
       "DiabetesPedigreeFunction  0.185071  0.140647                  1.000000   \n",
       "Age                      -0.042163  0.036242                  0.033561   \n",
       "Outcome                   0.130548  0.292695                  0.173844   \n",
       "\n",
       "                               Age   Outcome  \n",
       "Pregnancies               0.544341  0.221898  \n",
       "Glucose                   0.263514  0.466581  \n",
       "BloodPressure             0.239528  0.065068  \n",
       "SkinThickness            -0.113970  0.074752  \n",
       "Insulin                  -0.042163  0.130548  \n",
       "BMI                       0.036242  0.292695  \n",
       "DiabetesPedigreeFunction  0.033561  0.173844  \n",
       "Age                       1.000000  0.238356  \n",
       "Outcome                   0.238356  1.000000  "
      ]
     },
     "execution_count": 14,
     "metadata": {},
     "output_type": "execute_result"
    }
   ],
   "source": [
    "#correlation\n",
    "diabets_df3.corr()"
   ]
  },
  {
   "cell_type": "code",
   "execution_count": 15,
   "id": "3f8109d6",
   "metadata": {
    "execution": {
     "iopub.execute_input": "2022-11-21T12:58:03.869133Z",
     "iopub.status.busy": "2022-11-21T12:58:03.868292Z",
     "iopub.status.idle": "2022-11-21T12:58:03.879894Z",
     "shell.execute_reply": "2022-11-21T12:58:03.878909Z"
    },
    "papermill": {
     "duration": 0.038119,
     "end_time": "2022-11-21T12:58:03.882200",
     "exception": false,
     "start_time": "2022-11-21T12:58:03.844081",
     "status": "completed"
    },
    "tags": []
   },
   "outputs": [
    {
     "data": {
      "text/plain": [
       "Outcome                     1.000000\n",
       "Glucose                     0.466581\n",
       "BMI                         0.292695\n",
       "Age                         0.238356\n",
       "Pregnancies                 0.221898\n",
       "DiabetesPedigreeFunction    0.173844\n",
       "Insulin                     0.130548\n",
       "SkinThickness               0.074752\n",
       "BloodPressure               0.065068\n",
       "Name: Outcome, dtype: float64"
      ]
     },
     "execution_count": 15,
     "metadata": {},
     "output_type": "execute_result"
    }
   ],
   "source": [
    "diabets_df3.corr()['Outcome'].sort_values(ascending=False) #Correlation for get information"
   ]
  },
  {
   "cell_type": "code",
   "execution_count": 16,
   "id": "390f2208",
   "metadata": {
    "execution": {
     "iopub.execute_input": "2022-11-21T12:58:03.925581Z",
     "iopub.status.busy": "2022-11-21T12:58:03.924623Z",
     "iopub.status.idle": "2022-11-21T12:58:04.894414Z",
     "shell.execute_reply": "2022-11-21T12:58:04.893286Z"
    },
    "papermill": {
     "duration": 0.993204,
     "end_time": "2022-11-21T12:58:04.896907",
     "exception": false,
     "start_time": "2022-11-21T12:58:03.903703",
     "status": "completed"
    },
    "tags": []
   },
   "outputs": [
    {
     "data": {
      "image/png": "[encoded data removed]",
      "text/plain": [
       "<Figure size 432x432 with 3 Axes>"
      ]
     },
     "metadata": {
      "needs_background": "light"
     },
     "output_type": "display_data"
    }
   ],
   "source": [
    "#### How does Glucose is affected by price\n",
    "sns.jointplot(x='Glucose',y='Outcome',data=diabets_df3,color='red',kind='kde');"
   ]
  },
  {
   "cell_type": "markdown",
   "id": "1c270160",
   "metadata": {
    "papermill": {
     "duration": 0.018737,
     "end_time": "2022-11-21T12:58:04.935370",
     "exception": false,
     "start_time": "2022-11-21T12:58:04.916633",
     "status": "completed"
    },
    "tags": []
   },
   "source": [
    "##  Creating & Training KNN Model"
   ]
  },
  {
   "cell_type": "code",
   "execution_count": 17,
   "id": "387ce625",
   "metadata": {
    "execution": {
     "iopub.execute_input": "2022-11-21T12:58:04.975635Z",
     "iopub.status.busy": "2022-11-21T12:58:04.974643Z",
     "iopub.status.idle": "2022-11-21T12:58:04.984860Z",
     "shell.execute_reply": "2022-11-21T12:58:04.983598Z"
    },
    "papermill": {
     "duration": 0.032899,
     "end_time": "2022-11-21T12:58:04.987295",
     "exception": false,
     "start_time": "2022-11-21T12:58:04.954396",
     "status": "completed"
    },
    "tags": []
   },
   "outputs": [
    {
     "data": {
      "text/plain": [
       "array([[148.   ,  72.   ,  35.   , ...,  33.6  ,   0.627,  50.   ],\n",
       "       [ 85.   ,  66.   ,  29.   , ...,  26.6  ,   0.351,  31.   ],\n",
       "       [183.   ,  64.   ,   0.   , ...,  23.3  ,   0.672,  32.   ],\n",
       "       ...,\n",
       "       [121.   ,  72.   ,  23.   , ...,  26.2  ,   0.245,  30.   ],\n",
       "       [126.   ,  60.   ,   0.   , ...,  30.1  ,   0.349,  47.   ],\n",
       "       [ 93.   ,  70.   ,  31.   , ...,  30.4  ,   0.315,  23.   ]])"
      ]
     },
     "execution_count": 17,
     "metadata": {},
     "output_type": "execute_result"
    }
   ],
   "source": [
    "# Sellecting features\n",
    "X = pd.DataFrame(diabets_df3, columns = [\"Glucose\",\"BloodPressure\", \"SkinThickness\", \"Insulin\",\"BMI\",\"DiabetesPedigreeFunction\",\"Age\"]).values\n",
    "Y = diabets_df3.Outcome.values.reshape(-1,1)\n",
    "X"
   ]
  },
  {
   "cell_type": "code",
   "execution_count": 18,
   "id": "ec827b6f",
   "metadata": {
    "execution": {
     "iopub.execute_input": "2022-11-21T12:58:05.028882Z",
     "iopub.status.busy": "2022-11-21T12:58:05.028455Z",
     "iopub.status.idle": "2022-11-21T12:58:05.034708Z",
     "shell.execute_reply": "2022-11-21T12:58:05.033644Z"
    },
    "papermill": {
     "duration": 0.029973,
     "end_time": "2022-11-21T12:58:05.037231",
     "exception": false,
     "start_time": "2022-11-21T12:58:05.007258",
     "status": "completed"
    },
    "tags": []
   },
   "outputs": [],
   "source": [
    "# Splitting the data\n",
    "X_train, X_test, Y_train, Y_test  =  train_test_split(X,Y, test_size = 0.3, random_state = 0)"
   ]
  },
  {
   "cell_type": "markdown",
   "id": "ed1836c3",
   "metadata": {
    "papermill": {
     "duration": 0.019401,
     "end_time": "2022-11-21T12:58:05.076325",
     "exception": false,
     "start_time": "2022-11-21T12:58:05.056924",
     "status": "completed"
    },
    "tags": []
   },
   "source": [
    "### Modeling"
   ]
  },
  {
   "cell_type": "code",
   "execution_count": 19,
   "id": "8885f9f3",
   "metadata": {
    "execution": {
     "iopub.execute_input": "2022-11-21T12:58:05.118203Z",
     "iopub.status.busy": "2022-11-21T12:58:05.117122Z",
     "iopub.status.idle": "2022-11-21T12:58:05.132709Z",
     "shell.execute_reply": "2022-11-21T12:58:05.131863Z"
    },
    "papermill": {
     "duration": 0.039271,
     "end_time": "2022-11-21T12:58:05.135168",
     "exception": false,
     "start_time": "2022-11-21T12:58:05.095897",
     "status": "completed"
    },
    "tags": []
   },
   "outputs": [],
   "source": [
    "K = 3\n",
    "CLF = KNeighborsClassifier(K)\n",
    "CLF.fit(X_train,Y_train.ravel() )\n",
    "Y_pred = CLF.predict(X_test)"
   ]
  },
  {
   "cell_type": "code",
   "execution_count": 20,
   "id": "19c312a0",
   "metadata": {
    "execution": {
     "iopub.execute_input": "2022-11-21T12:58:05.176519Z",
     "iopub.status.busy": "2022-11-21T12:58:05.175529Z",
     "iopub.status.idle": "2022-11-21T12:58:05.355785Z",
     "shell.execute_reply": "2022-11-21T12:58:05.354550Z"
    },
    "papermill": {
     "duration": 0.203687,
     "end_time": "2022-11-21T12:58:05.358350",
     "exception": false,
     "start_time": "2022-11-21T12:58:05.154663",
     "status": "completed"
    },
    "tags": []
   },
   "outputs": [
    {
     "data": {
      "text/plain": [
       "array([0.61038961, 0.71861472, 0.70995671, 0.74025974, 0.74458874,\n",
       "       0.72727273, 0.75324675, 0.75324675, 0.75324675, 0.75324675,\n",
       "       0.74891775, 0.74891775, 0.73593074, 0.73160173, 0.73593074,\n",
       "       0.74025974, 0.74025974, 0.74025974, 0.73593074, 0.72727273])"
      ]
     },
     "execution_count": 20,
     "metadata": {},
     "output_type": "execute_result"
    }
   ],
   "source": [
    "# Select Best value for K\n",
    "K = 20\n",
    "Acc = np.zeros((K))\n",
    "for i in range(1 , K+1):\n",
    "    CLF = KNeighborsClassifier(n_neighbors = i)\n",
    "    CLF.fit(X_train,Y_train.ravel())\n",
    "    Y_pred = CLF.predict(X_test)\n",
    "    Acc[i-1] = metrics.accuracy_score(Y_test, Y_pred)\n",
    "Acc"
   ]
  },
  {
   "cell_type": "code",
   "execution_count": 21,
   "id": "5d27be45",
   "metadata": {
    "execution": {
     "iopub.execute_input": "2022-11-21T12:58:05.400392Z",
     "iopub.status.busy": "2022-11-21T12:58:05.399335Z",
     "iopub.status.idle": "2022-11-21T12:58:05.405794Z",
     "shell.execute_reply": "2022-11-21T12:58:05.404650Z"
    },
    "papermill": {
     "duration": 0.030499,
     "end_time": "2022-11-21T12:58:05.408811",
     "exception": false,
     "start_time": "2022-11-21T12:58:05.378312",
     "status": "completed"
    },
    "tags": []
   },
   "outputs": [
    {
     "name": "stdout",
     "output_type": "stream",
     "text": [
      "0.7532467532467533\n",
      "0.6103896103896104\n"
     ]
    }
   ],
   "source": [
    "# Show max & min\n",
    "print(np.max(Acc))\n",
    "print(np.min(Acc))"
   ]
  },
  {
   "cell_type": "code",
   "execution_count": 22,
   "id": "39aef7cc",
   "metadata": {
    "execution": {
     "iopub.execute_input": "2022-11-21T12:58:05.450263Z",
     "iopub.status.busy": "2022-11-21T12:58:05.449813Z",
     "iopub.status.idle": "2022-11-21T12:58:05.454562Z",
     "shell.execute_reply": "2022-11-21T12:58:05.453404Z"
    },
    "papermill": {
     "duration": 0.027725,
     "end_time": "2022-11-21T12:58:05.456975",
     "exception": false,
     "start_time": "2022-11-21T12:58:05.429250",
     "status": "completed"
    },
    "tags": []
   },
   "outputs": [],
   "source": [
    "########  Another way"
   ]
  },
  {
   "cell_type": "code",
   "execution_count": 23,
   "id": "f8a8b74c",
   "metadata": {
    "execution": {
     "iopub.execute_input": "2022-11-21T12:58:05.497602Z",
     "iopub.status.busy": "2022-11-21T12:58:05.497198Z",
     "iopub.status.idle": "2022-11-21T12:58:06.236497Z",
     "shell.execute_reply": "2022-11-21T12:58:06.235401Z"
    },
    "papermill": {
     "duration": 0.762453,
     "end_time": "2022-11-21T12:58:06.238910",
     "exception": false,
     "start_time": "2022-11-21T12:58:05.476457",
     "status": "completed"
    },
    "tags": []
   },
   "outputs": [
    {
     "data": {
      "text/plain": [
       "<matplotlib.legend.Legend at 0x7fd15ce93c10>"
      ]
     },
     "execution_count": 23,
     "metadata": {},
     "output_type": "execute_result"
    },
    {
     "data": {
      "image/png": "[encoded data removed]",
      "text/plain": [
       "<Figure size 432x288 with 1 Axes>"
      ]
     },
     "metadata": {
      "needs_background": "light"
     },
     "output_type": "display_data"
    }
   ],
   "source": [
    "traing_acc = []\n",
    "test_acc = []\n",
    "# try KNN for diffrent k nearset neighbor from 1 ta 50\n",
    "neighbors_setting = range(1,20)\n",
    "\n",
    "for n_neighbors in neighbors_setting:\n",
    "    knn = KNeighborsClassifier(n_neighbors = n_neighbors)\n",
    "    knn.fit(X_train,Y_train.ravel())\n",
    "    traing_acc.append(knn.score(X_train,Y_train))\n",
    "    test_acc.append(knn.score(X_test, Y_test))\n",
    "\n",
    "plt.plot(neighbors_setting, traing_acc, label = \"Accuracy of the training set\")\n",
    "plt.plot(neighbors_setting, test_acc, label = \"Accuracy of the test set\")\n",
    "plt.ylabel(\"Accuracuy\")\n",
    "plt.xlabel(\"neighbors\")\n",
    "plt.grid()\n",
    "plt.legend()\n"
   ]
  },
  {
   "cell_type": "code",
   "execution_count": 24,
   "id": "049cef8c",
   "metadata": {
    "execution": {
     "iopub.execute_input": "2022-11-21T12:58:06.280906Z",
     "iopub.status.busy": "2022-11-21T12:58:06.280469Z",
     "iopub.status.idle": "2022-11-21T12:58:06.284908Z",
     "shell.execute_reply": "2022-11-21T12:58:06.283794Z"
    },
    "papermill": {
     "duration": 0.028207,
     "end_time": "2022-11-21T12:58:06.287005",
     "exception": false,
     "start_time": "2022-11-21T12:58:06.258798",
     "status": "completed"
    },
    "tags": []
   },
   "outputs": [],
   "source": [
    "#### Improval Model"
   ]
  },
  {
   "cell_type": "code",
   "execution_count": 25,
   "id": "6267da53",
   "metadata": {
    "execution": {
     "iopub.execute_input": "2022-11-21T12:58:06.328723Z",
     "iopub.status.busy": "2022-11-21T12:58:06.328299Z",
     "iopub.status.idle": "2022-11-21T12:58:07.785107Z",
     "shell.execute_reply": "2022-11-21T12:58:07.784051Z"
    },
    "papermill": {
     "duration": 1.480587,
     "end_time": "2022-11-21T12:58:07.787376",
     "exception": false,
     "start_time": "2022-11-21T12:58:06.306789",
     "status": "completed"
    },
    "tags": []
   },
   "outputs": [
    {
     "name": "stdout",
     "output_type": "stream",
     "text": [
      "Fitting 5 folds for each of 19 candidates, totalling 95 fits\n"
     ]
    },
    {
     "data": {
      "text/plain": [
       "GridSearchCV(cv=5, estimator=KNeighborsClassifier(n_neighbors=19), n_jobs=-1,\n",
       "             param_grid={'n_neighbors': range(1, 20)}, scoring='accuracy',\n",
       "             verbose=1)"
      ]
     },
     "execution_count": 25,
     "metadata": {},
     "output_type": "execute_result"
    }
   ],
   "source": [
    "from sklearn.model_selection import GridSearchCV\n",
    "parametrs = {\"n_neighbors\": range(1,20) }\n",
    "grid_kn = GridSearchCV(estimator = knn, #Model\n",
    "                       param_grid = parametrs, #Range of K\n",
    "                       scoring = \"accuracy\",\n",
    "                       cv = 5,          # cross validation generator\n",
    "                       verbose = 1,     #Time of calculate\n",
    "                       n_jobs = -1)     #help to cpu\n",
    "                       \n",
    "            \n",
    "                     \n",
    "grid_kn.fit(X_train, Y_train.ravel())"
   ]
  },
  {
   "cell_type": "code",
   "execution_count": 26,
   "id": "b47f7e22",
   "metadata": {
    "execution": {
     "iopub.execute_input": "2022-11-21T12:58:07.830636Z",
     "iopub.status.busy": "2022-11-21T12:58:07.829866Z",
     "iopub.status.idle": "2022-11-21T12:58:07.862886Z",
     "shell.execute_reply": "2022-11-21T12:58:07.861732Z"
    },
    "papermill": {
     "duration": 0.057418,
     "end_time": "2022-11-21T12:58:07.865481",
     "exception": false,
     "start_time": "2022-11-21T12:58:07.808063",
     "status": "completed"
    },
    "tags": []
   },
   "outputs": [
    {
     "data": {
      "text/plain": [
       "0.7552083333333334"
      ]
     },
     "execution_count": 26,
     "metadata": {},
     "output_type": "execute_result"
    }
   ],
   "source": [
    "CLF.score(X,Y)"
   ]
  },
  {
   "cell_type": "code",
   "execution_count": 27,
   "id": "59f738a1",
   "metadata": {
    "execution": {
     "iopub.execute_input": "2022-11-21T12:58:07.908769Z",
     "iopub.status.busy": "2022-11-21T12:58:07.908036Z",
     "iopub.status.idle": "2022-11-21T12:58:07.914443Z",
     "shell.execute_reply": "2022-11-21T12:58:07.912879Z"
    },
    "papermill": {
     "duration": 0.030942,
     "end_time": "2022-11-21T12:58:07.916710",
     "exception": false,
     "start_time": "2022-11-21T12:58:07.885768",
     "status": "completed"
    },
    "tags": []
   },
   "outputs": [
    {
     "name": "stdout",
     "output_type": "stream",
     "text": [
      "Accuracy: 0.7272727272727273\n"
     ]
    }
   ],
   "source": [
    "print(\"Accuracy:\" , metrics.accuracy_score(Y_test,Y_pred ))"
   ]
  },
  {
   "cell_type": "code",
   "execution_count": 28,
   "id": "99715a27",
   "metadata": {
    "execution": {
     "iopub.execute_input": "2022-11-21T12:58:07.959931Z",
     "iopub.status.busy": "2022-11-21T12:58:07.959471Z",
     "iopub.status.idle": "2022-11-21T12:58:07.993392Z",
     "shell.execute_reply": "2022-11-21T12:58:07.992097Z"
    },
    "papermill": {
     "duration": 0.058789,
     "end_time": "2022-11-21T12:58:07.996277",
     "exception": false,
     "start_time": "2022-11-21T12:58:07.937488",
     "status": "completed"
    },
    "tags": []
   },
   "outputs": [
    {
     "data": {
      "text/plain": [
       "array([[450,  50],\n",
       "       [138, 130]])"
      ]
     },
     "execution_count": 28,
     "metadata": {},
     "output_type": "execute_result"
    }
   ],
   "source": [
    "confusion_matrix(Y,CLF.predict(X))"
   ]
  },
  {
   "cell_type": "code",
   "execution_count": 29,
   "id": "b7f539c9",
   "metadata": {
    "execution": {
     "iopub.execute_input": "2022-11-21T12:58:08.040572Z",
     "iopub.status.busy": "2022-11-21T12:58:08.040188Z",
     "iopub.status.idle": "2022-11-21T12:58:08.210238Z",
     "shell.execute_reply": "2022-11-21T12:58:08.209017Z"
    },
    "papermill": {
     "duration": 0.195412,
     "end_time": "2022-11-21T12:58:08.213332",
     "exception": false,
     "start_time": "2022-11-21T12:58:08.017920",
     "status": "completed"
    },
    "tags": []
   },
   "outputs": [
    {
     "data": {
      "image/png": "[encoded data removed]",
      "text/plain": [
       "<Figure size 576x576 with 1 Axes>"
      ]
     },
     "metadata": {
      "needs_background": "light"
     },
     "output_type": "display_data"
    }
   ],
   "source": [
    "# Show plot for confusion matrix\n",
    "cm = confusion_matrix(Y, CLF.predict(X))\n",
    "fig , ax = plt.subplots(figsize = (8,8))\n",
    "ax.imshow(cm)\n",
    "ax.grid(False)\n",
    "ax.xaxis.set(ticks = (0,1) , ticklabels = (\"predicted 0s\", \"predicted 1s\"))\n",
    "ax.yaxis.set(ticks = (0,1) , ticklabels = (\"Actual 0s\", \"Actual 1s\"))\n",
    "ax.set_ylim(1.5 , -0.5)\n",
    "for i in range(2):\n",
    "    for j in range(2):\n",
    "        ax.text(j, i , cm[i,j], ha = \"center\" , va = \"center\", color = \"red\")   \n",
    "plt.show()"
   ]
  },
  {
   "cell_type": "code",
   "execution_count": 30,
   "id": "7f5d64e6",
   "metadata": {
    "execution": {
     "iopub.execute_input": "2022-11-21T12:58:08.275041Z",
     "iopub.status.busy": "2022-11-21T12:58:08.274607Z",
     "iopub.status.idle": "2022-11-21T12:58:08.311006Z",
     "shell.execute_reply": "2022-11-21T12:58:08.309080Z"
    },
    "papermill": {
     "duration": 0.065432,
     "end_time": "2022-11-21T12:58:08.314237",
     "exception": false,
     "start_time": "2022-11-21T12:58:08.248805",
     "status": "completed"
    },
    "tags": []
   },
   "outputs": [
    {
     "name": "stdout",
     "output_type": "stream",
     "text": [
      "              precision    recall  f1-score   support\n",
      "\n",
      "           0       0.77      0.90      0.83       500\n",
      "           1       0.72      0.49      0.58       268\n",
      "\n",
      "    accuracy                           0.76       768\n",
      "   macro avg       0.74      0.69      0.70       768\n",
      "weighted avg       0.75      0.76      0.74       768\n",
      "\n"
     ]
    }
   ],
   "source": [
    "# Calculate classification\n",
    "print(classification_report(Y, CLF.predict(X)))"
   ]
  },
  {
   "cell_type": "markdown",
   "id": "36edd89e",
   "metadata": {
    "papermill": {
     "duration": 0.021015,
     "end_time": "2022-11-21T12:58:08.356600",
     "exception": false,
     "start_time": "2022-11-21T12:58:08.335585",
     "status": "completed"
    },
    "tags": []
   },
   "source": [
    "##  Creating & Training Logestic Regression Model"
   ]
  },
  {
   "cell_type": "code",
   "execution_count": 31,
   "id": "aa691fcf",
   "metadata": {
    "execution": {
     "iopub.execute_input": "2022-11-21T12:58:08.399596Z",
     "iopub.status.busy": "2022-11-21T12:58:08.399180Z",
     "iopub.status.idle": "2022-11-21T12:58:08.406224Z",
     "shell.execute_reply": "2022-11-21T12:58:08.405130Z"
    },
    "papermill": {
     "duration": 0.031101,
     "end_time": "2022-11-21T12:58:08.408547",
     "exception": false,
     "start_time": "2022-11-21T12:58:08.377446",
     "status": "completed"
    },
    "tags": []
   },
   "outputs": [],
   "source": [
    "# Sellecting features\n",
    "X = pd.DataFrame(diabets_df3 , columns = [\"Pregnancies\",\"Glucose\",\"BloodPressure\",\"SkinThickness\",\"Insulin\",\"BMI\",\"DiabetesPedigreeFunction\",\"Age\"])\n",
    "Y = diabets_df3.Outcome"
   ]
  },
  {
   "cell_type": "code",
   "execution_count": 32,
   "id": "3f71a912",
   "metadata": {
    "execution": {
     "iopub.execute_input": "2022-11-21T12:58:08.451598Z",
     "iopub.status.busy": "2022-11-21T12:58:08.451177Z",
     "iopub.status.idle": "2022-11-21T12:58:08.459466Z",
     "shell.execute_reply": "2022-11-21T12:58:08.458357Z"
    },
    "papermill": {
     "duration": 0.032472,
     "end_time": "2022-11-21T12:58:08.461676",
     "exception": false,
     "start_time": "2022-11-21T12:58:08.429204",
     "status": "completed"
    },
    "tags": []
   },
   "outputs": [],
   "source": [
    "X_train, X_test, Y_train, Y_test = train_test_split(X,Y, test_size = 0.25, random_state =0)"
   ]
  },
  {
   "cell_type": "code",
   "execution_count": 33,
   "id": "fa5142aa",
   "metadata": {
    "execution": {
     "iopub.execute_input": "2022-11-21T12:58:08.505559Z",
     "iopub.status.busy": "2022-11-21T12:58:08.504722Z",
     "iopub.status.idle": "2022-11-21T12:58:08.510129Z",
     "shell.execute_reply": "2022-11-21T12:58:08.508882Z"
    },
    "papermill": {
     "duration": 0.029798,
     "end_time": "2022-11-21T12:58:08.512445",
     "exception": false,
     "start_time": "2022-11-21T12:58:08.482647",
     "status": "completed"
    },
    "tags": []
   },
   "outputs": [],
   "source": [
    "Logreg = LogisticRegression(solver = \"liblinear\")"
   ]
  },
  {
   "cell_type": "code",
   "execution_count": 34,
   "id": "1b8cc071",
   "metadata": {
    "execution": {
     "iopub.execute_input": "2022-11-21T12:58:08.555431Z",
     "iopub.status.busy": "2022-11-21T12:58:08.555001Z",
     "iopub.status.idle": "2022-11-21T12:58:08.573204Z",
     "shell.execute_reply": "2022-11-21T12:58:08.572083Z"
    },
    "papermill": {
     "duration": 0.043472,
     "end_time": "2022-11-21T12:58:08.576596",
     "exception": false,
     "start_time": "2022-11-21T12:58:08.533124",
     "status": "completed"
    },
    "tags": []
   },
   "outputs": [],
   "source": [
    "Logreg.fit(X_train , Y_train)\n",
    "Y_pred = Logreg.predict(X_test)"
   ]
  },
  {
   "cell_type": "code",
   "execution_count": 35,
   "id": "21775b61",
   "metadata": {
    "execution": {
     "iopub.execute_input": "2022-11-21T12:58:08.626326Z",
     "iopub.status.busy": "2022-11-21T12:58:08.625370Z",
     "iopub.status.idle": "2022-11-21T12:58:08.633710Z",
     "shell.execute_reply": "2022-11-21T12:58:08.632543Z"
    },
    "papermill": {
     "duration": 0.036421,
     "end_time": "2022-11-21T12:58:08.637461",
     "exception": false,
     "start_time": "2022-11-21T12:58:08.601040",
     "status": "completed"
    },
    "tags": []
   },
   "outputs": [
    {
     "data": {
      "text/plain": [
       "array([1, 0, 0, 1, 0, 0, 1, 1, 0, 0, 1, 1, 0, 0, 0, 0, 1, 0, 0, 0, 1, 0,\n",
       "       0, 0, 0, 0, 0, 1, 0, 0, 0, 0, 0, 0, 0, 1, 0, 0, 0, 1, 0, 0, 0, 1,\n",
       "       1, 0, 0, 0, 0, 0, 0, 0, 1, 0, 0, 0, 0, 0, 0, 0, 1, 0, 0, 1, 1, 1,\n",
       "       1, 0, 0, 0, 0, 1, 0, 1, 1, 0, 0, 1, 0, 0, 0, 0, 0, 0, 0, 0, 0, 0,\n",
       "       1, 0, 0, 0, 0, 0, 1, 0, 0, 0, 1, 0, 0, 0, 0, 0, 1, 0, 0, 0, 0, 1,\n",
       "       0, 0, 1, 0, 1, 1, 0, 1, 0, 1, 0, 0, 0, 0, 0, 0, 0, 0, 0, 0, 0, 0,\n",
       "       0, 1, 0, 0, 0, 0, 1, 0, 0, 1, 0, 0, 0, 0, 0, 0, 0, 0, 0, 1, 0, 0,\n",
       "       1, 0, 1, 0, 1, 1, 1, 1, 0, 0, 1, 0, 0, 0, 0, 0, 0, 0, 0, 0, 0, 0,\n",
       "       0, 0, 0, 0, 0, 1, 0, 1, 0, 0, 1, 0, 0, 0, 0, 0])"
      ]
     },
     "execution_count": 35,
     "metadata": {},
     "output_type": "execute_result"
    }
   ],
   "source": [
    "Y_pred"
   ]
  },
  {
   "cell_type": "code",
   "execution_count": 36,
   "id": "9bc47bcc",
   "metadata": {
    "execution": {
     "iopub.execute_input": "2022-11-21T12:58:08.691573Z",
     "iopub.status.busy": "2022-11-21T12:58:08.690475Z",
     "iopub.status.idle": "2022-11-21T12:58:08.698847Z",
     "shell.execute_reply": "2022-11-21T12:58:08.697419Z"
    },
    "papermill": {
     "duration": 0.036631,
     "end_time": "2022-11-21T12:58:08.701172",
     "exception": false,
     "start_time": "2022-11-21T12:58:08.664541",
     "status": "completed"
    },
    "tags": []
   },
   "outputs": [
    {
     "name": "stdout",
     "output_type": "stream",
     "text": [
      "Accuracy: 0.8072916666666666\n"
     ]
    }
   ],
   "source": [
    "print(\"Accuracy:\" , metrics.accuracy_score(Y_test,Y_pred ))"
   ]
  },
  {
   "cell_type": "code",
   "execution_count": 37,
   "id": "b4a45735",
   "metadata": {
    "execution": {
     "iopub.execute_input": "2022-11-21T12:58:08.745563Z",
     "iopub.status.busy": "2022-11-21T12:58:08.744530Z",
     "iopub.status.idle": "2022-11-21T12:58:08.921748Z",
     "shell.execute_reply": "2022-11-21T12:58:08.920860Z"
    },
    "papermill": {
     "duration": 0.201585,
     "end_time": "2022-11-21T12:58:08.924082",
     "exception": false,
     "start_time": "2022-11-21T12:58:08.722497",
     "status": "completed"
    },
    "tags": []
   },
   "outputs": [
    {
     "data": {
      "image/png": "[encoded data removed]",
      "text/plain": [
       "<Figure size 432x288 with 1 Axes>"
      ]
     },
     "metadata": {
      "needs_background": "light"
     },
     "output_type": "display_data"
    }
   ],
   "source": [
    "fpr , tpr,_ = metrics.roc_curve(Y_test,Y_pred)\n",
    "plt.plot(fpr , tpr, label = \"data 1\")\n",
    "plt.legend(loc = 4)\n",
    "plt.show()"
   ]
  },
  {
   "cell_type": "code",
   "execution_count": 38,
   "id": "1f8d4c49",
   "metadata": {
    "execution": {
     "iopub.execute_input": "2022-11-21T12:58:08.969699Z",
     "iopub.status.busy": "2022-11-21T12:58:08.968931Z",
     "iopub.status.idle": "2022-11-21T12:58:09.145664Z",
     "shell.execute_reply": "2022-11-21T12:58:09.144447Z"
    },
    "papermill": {
     "duration": 0.202147,
     "end_time": "2022-11-21T12:58:09.148134",
     "exception": false,
     "start_time": "2022-11-21T12:58:08.945987",
     "status": "completed"
    },
    "tags": []
   },
   "outputs": [
    {
     "data": {
      "image/png": "[encoded data removed]",
      "text/plain": [
       "<Figure size 432x288 with 1 Axes>"
      ]
     },
     "metadata": {
      "needs_background": "light"
     },
     "output_type": "display_data"
    }
   ],
   "source": [
    "Y_pred_proba = Logreg.predict_proba(X_test)[::,1]\n",
    "fpr , tpr,_ = metrics.roc_curve(Y_test,Y_pred_proba)\n",
    "plt.plot(fpr , tpr, label = \"data 1\")\n",
    "plt.legend(loc = 4)\n",
    "plt.show()"
   ]
  },
  {
   "cell_type": "code",
   "execution_count": 39,
   "id": "a5985db2",
   "metadata": {
    "execution": {
     "iopub.execute_input": "2022-11-21T12:58:09.194589Z",
     "iopub.status.busy": "2022-11-21T12:58:09.192396Z",
     "iopub.status.idle": "2022-11-21T12:58:09.200839Z",
     "shell.execute_reply": "2022-11-21T12:58:09.199908Z"
    },
    "papermill": {
     "duration": 0.033457,
     "end_time": "2022-11-21T12:58:09.203057",
     "exception": false,
     "start_time": "2022-11-21T12:58:09.169600",
     "status": "completed"
    },
    "tags": []
   },
   "outputs": [
    {
     "data": {
      "text/plain": [
       "array([0, 1])"
      ]
     },
     "execution_count": 39,
     "metadata": {},
     "output_type": "execute_result"
    }
   ],
   "source": [
    "Logreg.classes_"
   ]
  },
  {
   "cell_type": "code",
   "execution_count": 40,
   "id": "52bcfa55",
   "metadata": {
    "execution": {
     "iopub.execute_input": "2022-11-21T12:58:09.248413Z",
     "iopub.status.busy": "2022-11-21T12:58:09.247244Z",
     "iopub.status.idle": "2022-11-21T12:58:09.254677Z",
     "shell.execute_reply": "2022-11-21T12:58:09.253863Z"
    },
    "papermill": {
     "duration": 0.032356,
     "end_time": "2022-11-21T12:58:09.256848",
     "exception": false,
     "start_time": "2022-11-21T12:58:09.224492",
     "status": "completed"
    },
    "tags": []
   },
   "outputs": [
    {
     "data": {
      "text/plain": [
       "array([-5.45413386])"
      ]
     },
     "execution_count": 40,
     "metadata": {},
     "output_type": "execute_result"
    }
   ],
   "source": [
    "Logreg.intercept_"
   ]
  },
  {
   "cell_type": "code",
   "execution_count": 41,
   "id": "12f0aa8e",
   "metadata": {
    "execution": {
     "iopub.execute_input": "2022-11-21T12:58:09.301934Z",
     "iopub.status.busy": "2022-11-21T12:58:09.301501Z",
     "iopub.status.idle": "2022-11-21T12:58:09.308537Z",
     "shell.execute_reply": "2022-11-21T12:58:09.307409Z"
    },
    "papermill": {
     "duration": 0.032541,
     "end_time": "2022-11-21T12:58:09.310852",
     "exception": false,
     "start_time": "2022-11-21T12:58:09.278311",
     "status": "completed"
    },
    "tags": []
   },
   "outputs": [
    {
     "data": {
      "text/plain": [
       "array([[ 8.34612481e-02,  2.55666050e-02, -1.64871716e-02,\n",
       "         5.59519421e-03, -5.38278319e-04,  5.43371349e-02,\n",
       "         6.01706344e-01,  1.23641482e-02]])"
      ]
     },
     "execution_count": 41,
     "metadata": {},
     "output_type": "execute_result"
    }
   ],
   "source": [
    "Logreg.coef_"
   ]
  },
  {
   "cell_type": "code",
   "execution_count": 42,
   "id": "b30e17a0",
   "metadata": {
    "execution": {
     "iopub.execute_input": "2022-11-21T12:58:09.356215Z",
     "iopub.status.busy": "2022-11-21T12:58:09.355388Z",
     "iopub.status.idle": "2022-11-21T12:58:09.364903Z",
     "shell.execute_reply": "2022-11-21T12:58:09.364003Z"
    },
    "papermill": {
     "duration": 0.034813,
     "end_time": "2022-11-21T12:58:09.367111",
     "exception": false,
     "start_time": "2022-11-21T12:58:09.332298",
     "status": "completed"
    },
    "tags": []
   },
   "outputs": [
    {
     "data": {
      "text/plain": [
       "array([[0.34063817, 0.65936183],\n",
       "       [0.88929387, 0.11070613],\n",
       "       [0.28840965, 0.71159035],\n",
       "       ...,\n",
       "       [0.7539826 , 0.2460174 ],\n",
       "       [0.67081035, 0.32918965],\n",
       "       [0.86387653, 0.13612347]])"
      ]
     },
     "execution_count": 42,
     "metadata": {},
     "output_type": "execute_result"
    }
   ],
   "source": [
    "Logreg.predict_proba(X)"
   ]
  },
  {
   "cell_type": "code",
   "execution_count": 43,
   "id": "88213a0f",
   "metadata": {
    "execution": {
     "iopub.execute_input": "2022-11-21T12:58:09.412899Z",
     "iopub.status.busy": "2022-11-21T12:58:09.412461Z",
     "iopub.status.idle": "2022-11-21T12:58:09.422241Z",
     "shell.execute_reply": "2022-11-21T12:58:09.421354Z"
    },
    "papermill": {
     "duration": 0.035346,
     "end_time": "2022-11-21T12:58:09.424447",
     "exception": false,
     "start_time": "2022-11-21T12:58:09.389101",
     "status": "completed"
    },
    "tags": []
   },
   "outputs": [
    {
     "data": {
      "text/plain": [
       "0.76953125"
      ]
     },
     "execution_count": 43,
     "metadata": {},
     "output_type": "execute_result"
    }
   ],
   "source": [
    "Logreg.score(X,Y)"
   ]
  },
  {
   "cell_type": "code",
   "execution_count": 44,
   "id": "155bb37f",
   "metadata": {
    "execution": {
     "iopub.execute_input": "2022-11-21T12:58:09.470843Z",
     "iopub.status.busy": "2022-11-21T12:58:09.470036Z",
     "iopub.status.idle": "2022-11-21T12:58:09.480414Z",
     "shell.execute_reply": "2022-11-21T12:58:09.479310Z"
    },
    "papermill": {
     "duration": 0.036519,
     "end_time": "2022-11-21T12:58:09.482931",
     "exception": false,
     "start_time": "2022-11-21T12:58:09.446412",
     "status": "completed"
    },
    "tags": []
   },
   "outputs": [
    {
     "data": {
      "text/plain": [
       "array([[443,  57],\n",
       "       [120, 148]])"
      ]
     },
     "execution_count": 44,
     "metadata": {},
     "output_type": "execute_result"
    }
   ],
   "source": [
    "confusion_matrix(Y, Logreg.predict(X))"
   ]
  },
  {
   "cell_type": "code",
   "execution_count": 45,
   "id": "8de71cb2",
   "metadata": {
    "execution": {
     "iopub.execute_input": "2022-11-21T12:58:09.530593Z",
     "iopub.status.busy": "2022-11-21T12:58:09.529449Z",
     "iopub.status.idle": "2022-11-21T12:58:09.663203Z",
     "shell.execute_reply": "2022-11-21T12:58:09.662117Z"
    },
    "papermill": {
     "duration": 0.160733,
     "end_time": "2022-11-21T12:58:09.666528",
     "exception": false,
     "start_time": "2022-11-21T12:58:09.505795",
     "status": "completed"
    },
    "tags": []
   },
   "outputs": [
    {
     "data": {
      "image/png": "[encoded data removed]",
      "text/plain": [
       "<Figure size 576x576 with 1 Axes>"
      ]
     },
     "metadata": {
      "needs_background": "light"
     },
     "output_type": "display_data"
    }
   ],
   "source": [
    "# show plot for confusion matrix\n",
    "cm = confusion_matrix(Y, Logreg.predict(X))\n",
    "fig , ax = plt.subplots(figsize = (8,8))\n",
    "ax.imshow(cm)\n",
    "ax.grid(False)\n",
    "ax.xaxis.set(ticks = (0,1) , ticklabels = (\"predicted 0s\", \"predicted 1s\"))\n",
    "ax.yaxis.set(ticks = (0,1) , ticklabels = (\"Actual 0s\", \"Actual 1s\"))\n",
    "ax.set_ylim(1.5 , -0.5)\n",
    "for i in range(2):\n",
    "    for j in range(2):\n",
    "        ax.text(j, i , cm[i,j], ha = \"center\" , va = \"center\", color = \"red\")   \n",
    "plt.show()"
   ]
  },
  {
   "cell_type": "code",
   "execution_count": 46,
   "id": "9dd446c0",
   "metadata": {
    "execution": {
     "iopub.execute_input": "2022-11-21T12:58:09.732460Z",
     "iopub.status.busy": "2022-11-21T12:58:09.731648Z",
     "iopub.status.idle": "2022-11-21T12:58:09.744662Z",
     "shell.execute_reply": "2022-11-21T12:58:09.743330Z"
    },
    "papermill": {
     "duration": 0.044184,
     "end_time": "2022-11-21T12:58:09.747210",
     "exception": false,
     "start_time": "2022-11-21T12:58:09.703026",
     "status": "completed"
    },
    "tags": []
   },
   "outputs": [
    {
     "name": "stdout",
     "output_type": "stream",
     "text": [
      "              precision    recall  f1-score   support\n",
      "\n",
      "           0       0.79      0.89      0.83       500\n",
      "           1       0.72      0.55      0.63       268\n",
      "\n",
      "    accuracy                           0.77       768\n",
      "   macro avg       0.75      0.72      0.73       768\n",
      "weighted avg       0.76      0.77      0.76       768\n",
      "\n"
     ]
    }
   ],
   "source": [
    "print(classification_report(Y, Logreg.predict(X)))"
   ]
  },
  {
   "cell_type": "markdown",
   "id": "ca11d879",
   "metadata": {
    "papermill": {
     "duration": 0.022023,
     "end_time": "2022-11-21T12:58:09.791808",
     "exception": false,
     "start_time": "2022-11-21T12:58:09.769785",
     "status": "completed"
    },
    "tags": []
   },
   "source": [
    "## Creating & Training SVM Model"
   ]
  },
  {
   "cell_type": "code",
   "execution_count": 47,
   "id": "d3ac83b7",
   "metadata": {
    "execution": {
     "iopub.execute_input": "2022-11-21T12:58:09.839330Z",
     "iopub.status.busy": "2022-11-21T12:58:09.838081Z",
     "iopub.status.idle": "2022-11-21T12:58:09.844968Z",
     "shell.execute_reply": "2022-11-21T12:58:09.844126Z"
    },
    "papermill": {
     "duration": 0.033018,
     "end_time": "2022-11-21T12:58:09.847268",
     "exception": false,
     "start_time": "2022-11-21T12:58:09.814250",
     "status": "completed"
    },
    "tags": []
   },
   "outputs": [],
   "source": [
    "# Sellecting features\n",
    "X = pd.DataFrame(diabets_df3 , columns = [\"Pregnancies\",\"Glucose\",\"BloodPressure\",\"SkinThickness\",\"Insulin\",\"BMI\",\"DiabetesPedigreeFunction\",\"Age\"])\n",
    "Y = diabets_df3.Outcome"
   ]
  },
  {
   "cell_type": "code",
   "execution_count": 48,
   "id": "e7351b9b",
   "metadata": {
    "execution": {
     "iopub.execute_input": "2022-11-21T12:58:09.894223Z",
     "iopub.status.busy": "2022-11-21T12:58:09.893785Z",
     "iopub.status.idle": "2022-11-21T12:58:09.901752Z",
     "shell.execute_reply": "2022-11-21T12:58:09.900736Z"
    },
    "papermill": {
     "duration": 0.034399,
     "end_time": "2022-11-21T12:58:09.904132",
     "exception": false,
     "start_time": "2022-11-21T12:58:09.869733",
     "status": "completed"
    },
    "tags": []
   },
   "outputs": [],
   "source": [
    "# Splitting the data\n",
    "\n",
    "X_train, X_test, Y_train, Y_test = train_test_split(X,Y, test_size = 0.25 ,random_state = 1)"
   ]
  },
  {
   "cell_type": "code",
   "execution_count": 49,
   "id": "9250a32d",
   "metadata": {
    "execution": {
     "iopub.execute_input": "2022-11-21T12:58:09.951078Z",
     "iopub.status.busy": "2022-11-21T12:58:09.950656Z",
     "iopub.status.idle": "2022-11-21T12:58:09.976789Z",
     "shell.execute_reply": "2022-11-21T12:58:09.975433Z"
    },
    "papermill": {
     "duration": 0.053076,
     "end_time": "2022-11-21T12:58:09.979675",
     "exception": false,
     "start_time": "2022-11-21T12:58:09.926599",
     "status": "completed"
    },
    "tags": []
   },
   "outputs": [],
   "source": [
    "#Model\n",
    "clf_svm = SVC(C=10.0) \n",
    "clf_svm = clf_svm.fit(X_train,Y_train )\n",
    "y_pred = clf_svm.predict(X_test)"
   ]
  },
  {
   "cell_type": "code",
   "execution_count": 50,
   "id": "e183d4aa",
   "metadata": {
    "execution": {
     "iopub.execute_input": "2022-11-21T12:58:10.026695Z",
     "iopub.status.busy": "2022-11-21T12:58:10.026301Z",
     "iopub.status.idle": "2022-11-21T12:58:10.032968Z",
     "shell.execute_reply": "2022-11-21T12:58:10.031610Z"
    },
    "papermill": {
     "duration": 0.033517,
     "end_time": "2022-11-21T12:58:10.035859",
     "exception": false,
     "start_time": "2022-11-21T12:58:10.002342",
     "status": "completed"
    },
    "tags": []
   },
   "outputs": [
    {
     "name": "stdout",
     "output_type": "stream",
     "text": [
      "Accuracy:  0.7916666666666666\n"
     ]
    }
   ],
   "source": [
    "print(\"Accuracy: \", metrics.accuracy_score(Y_test, y_pred))"
   ]
  },
  {
   "cell_type": "code",
   "execution_count": 51,
   "id": "6b4a316b",
   "metadata": {
    "execution": {
     "iopub.execute_input": "2022-11-21T12:58:10.084181Z",
     "iopub.status.busy": "2022-11-21T12:58:10.083178Z",
     "iopub.status.idle": "2022-11-21T12:58:10.107327Z",
     "shell.execute_reply": "2022-11-21T12:58:10.106323Z"
    },
    "papermill": {
     "duration": 0.050442,
     "end_time": "2022-11-21T12:58:10.109640",
     "exception": false,
     "start_time": "2022-11-21T12:58:10.059198",
     "status": "completed"
    },
    "tags": []
   },
   "outputs": [
    {
     "data": {
      "text/plain": [
       "array([[458,  42],\n",
       "       [128, 140]])"
      ]
     },
     "execution_count": 51,
     "metadata": {},
     "output_type": "execute_result"
    }
   ],
   "source": [
    "confusion_matrix(Y, clf_svm.predict(X))"
   ]
  },
  {
   "cell_type": "code",
   "execution_count": 52,
   "id": "c7793089",
   "metadata": {
    "execution": {
     "iopub.execute_input": "2022-11-21T12:58:10.157217Z",
     "iopub.status.busy": "2022-11-21T12:58:10.156800Z",
     "iopub.status.idle": "2022-11-21T12:58:10.306048Z",
     "shell.execute_reply": "2022-11-21T12:58:10.304749Z"
    },
    "papermill": {
     "duration": 0.176993,
     "end_time": "2022-11-21T12:58:10.309333",
     "exception": false,
     "start_time": "2022-11-21T12:58:10.132340",
     "status": "completed"
    },
    "tags": []
   },
   "outputs": [
    {
     "data": {
      "image/png": "[encoded data removed]",
      "text/plain": [
       "<Figure size 576x576 with 1 Axes>"
      ]
     },
     "metadata": {
      "needs_background": "light"
     },
     "output_type": "display_data"
    }
   ],
   "source": [
    "# show plot for confusion matrix\n",
    "cm = confusion_matrix(Y, clf_svm.predict(X))\n",
    "fig , ax = plt.subplots(figsize = (8,8))\n",
    "ax.imshow(cm)\n",
    "ax.grid(False)\n",
    "ax.xaxis.set(ticks = (0,1) , ticklabels = (\"predicted 0s\", \"predicted 1s\"))\n",
    "ax.yaxis.set(ticks = (0,1) , ticklabels = (\"Actual 0s\", \"Actual 1s\"))\n",
    "ax.set_ylim(1.5 , -0.5)\n",
    "for i in range(2):\n",
    "    for j in range(2):\n",
    "        ax.text(j, i , cm[i,j], ha = \"center\" , va = \"center\", color = \"red\")   \n",
    "plt.show()"
   ]
  },
  {
   "cell_type": "markdown",
   "id": "8e0e65cf",
   "metadata": {
    "papermill": {
     "duration": 0.024137,
     "end_time": "2022-11-21T12:58:10.371594",
     "exception": false,
     "start_time": "2022-11-21T12:58:10.347457",
     "status": "completed"
    },
    "tags": []
   },
   "source": [
    "## Conclusion:Best Algorithm is Logestic Regression\n",
    "\n",
    "KNN Accuracy: 0.7272727272727273\n",
    "    \n",
    "Logestic Regression Accuracy: 0.8072916666666666\n",
    "    \n",
    "SVM Accuracy: 0.7916666666666666"
   ]
  },
  {
   "cell_type": "code",
   "execution_count": null,
   "id": "ebadb8d8",
   "metadata": {
    "papermill": {
     "duration": 0.02225,
     "end_time": "2022-11-21T12:58:10.417179",
     "exception": false,
     "start_time": "2022-11-21T12:58:10.394929",
     "status": "completed"
    },
    "tags": []
   },
   "outputs": [],
   "source": []
  }
 ],
 "metadata": {
  "kernelspec": {
   "display_name": "Python 3.9.13 ('fast')",
   "language": "python",
   "name": "python3"
  },
  "language_info": {
   "codemirror_mode": {
    "name": "ipython",
    "version": 3
   },
   "file_extension": ".py",
   "mimetype": "text/x-python",
   "name": "python",
   "nbconvert_exporter": "python",
   "pygments_lexer": "ipython3",
   "version": "3.9.13"
  },
  "papermill": {
   "default_parameters": {},
   "duration": 25.566696,
   "end_time": "2022-11-21T12:58:13.061570",
   "environment_variables": {},
   "exception": null,
   "input_path": "__notebook__.ipynb",
   "output_path": "__notebook__.ipynb",
   "parameters": {},
   "start_time": "2022-11-21T12:57:47.494874",
   "version": "2.3.4"
  },
  "vscode": {
   "interpreter": {
    "hash": "91cf809ebeac7834cab322c0e9393d8c235d5aedcc8b94bfe1d55e7236ca8197"
   }
  }
 },
 "nbformat": 4,
 "nbformat_minor": 5
}
